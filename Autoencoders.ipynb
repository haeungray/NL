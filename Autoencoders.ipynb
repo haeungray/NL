{
 "cells": [
  {
   "cell_type": "markdown",
   "metadata": {},
   "source": [
    "### Encoding - Decoding \n",
    "* 인코더와 디코더를 통해 압축과 해제를 실행\n",
    "    * 인코더는 입력의 정보를 최대한 보존하도록 손실 압축\n",
    "    * 디코더는 중간 결과물의 정보를 입력과 같아지도록 압축 해제를 수행 \n",
    "    * 복원을 성공적으로 진행하기 위해서는, 오토인코더는 특징을 추출하는 방법을 자동으로 학습시킴"
   ]
  },
  {
   "cell_type": "markdown",
   "metadata": {},
   "source": [
    "### In Word2Vec\n",
    "\n",
    "* Objective : 주어진 단어로 주변 단어를 예측\n",
    "* Y를 예측하기 위해 필요한 정보가 Z에 있어야 한다. \n",
    "\n",
    "X -> (Encoder) -> z -> (Decoder -> Y"
   ]
  },
  {
   "cell_type": "markdown",
   "metadata": {},
   "source": [
    "### In Text Classification \n",
    "\n",
    "* 신경망은 x와 y 사이의 관계를 학습하는 과정에서 feature를 자연스럽게 학습 \n",
    "* Word Embedding (Skip-gram) : 주변 단어를 예측하기 위해 필요한 정보를 현재 단어에서 추출하여 압축 \n",
    "* Sentence Embedding (text classification) : Label(y)를 예측하기 위해 필요한 정보를 단어들의 시퀸스로부터 추출하여 압축"
   ]
  },
  {
   "cell_type": "code",
   "execution_count": null,
   "metadata": {
    "collapsed": true
   },
   "outputs": [],
   "source": []
  }
 ],
 "metadata": {
  "kernelspec": {
   "display_name": "Python 3",
   "language": "python",
   "name": "python3"
  },
  "language_info": {
   "codemirror_mode": {
    "name": "ipython",
    "version": 3
   },
   "file_extension": ".py",
   "mimetype": "text/x-python",
   "name": "python",
   "nbconvert_exporter": "python",
   "pygments_lexer": "ipython3",
   "version": "3.6.3"
  }
 },
 "nbformat": 4,
 "nbformat_minor": 2
}
